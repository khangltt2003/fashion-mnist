{
 "cells": [
  {
   "cell_type": "code",
   "id": "initial_id",
   "metadata": {
    "collapsed": true,
    "ExecuteTime": {
     "end_time": "2025-02-21T07:33:56.974795Z",
     "start_time": "2025-02-21T07:33:56.970272Z"
    }
   },
   "source": [
    "import tensorflow as tf\n",
    "from tensorflow import keras\n",
    "from matplotlib import pyplot as plt\n",
    "import numpy as np\n",
    "\n",
    "tf.__version__"
   ],
   "outputs": [
    {
     "data": {
      "text/plain": [
       "'2.18.0'"
      ]
     },
     "execution_count": 204,
     "metadata": {},
     "output_type": "execute_result"
    }
   ],
   "execution_count": 204
  },
  {
   "metadata": {
    "ExecuteTime": {
     "end_time": "2025-02-21T07:33:57.245988Z",
     "start_time": "2025-02-21T07:33:56.988804Z"
    }
   },
   "cell_type": "code",
   "source": [
    "(X_train, y_train), (X_test, y_test) = keras.datasets.fashion_mnist.load_data()\n",
    "X_train.shape\n"
   ],
   "id": "8f38d7a613c4989",
   "outputs": [
    {
     "data": {
      "text/plain": [
       "(60000, 28, 28)"
      ]
     },
     "execution_count": 205,
     "metadata": {},
     "output_type": "execute_result"
    }
   ],
   "execution_count": 205
  },
  {
   "metadata": {
    "ExecuteTime": {
     "end_time": "2025-02-21T07:33:57.265145Z",
     "start_time": "2025-02-21T07:33:57.257628Z"
    }
   },
   "cell_type": "code",
   "source": "np.unique(y_train)",
   "id": "43395bd3a72778ab",
   "outputs": [
    {
     "data": {
      "text/plain": [
       "array([0, 1, 2, 3, 4, 5, 6, 7, 8, 9], dtype=uint8)"
      ]
     },
     "execution_count": 206,
     "metadata": {},
     "output_type": "execute_result"
    }
   ],
   "execution_count": 206
  },
  {
   "metadata": {
    "ExecuteTime": {
     "end_time": "2025-02-21T07:33:57.328358Z",
     "start_time": "2025-02-21T07:33:57.325353Z"
    }
   },
   "cell_type": "code",
   "source": "class_name = [\"t-shirt\", \"trouser\", \"pullover\", \"dress\", \"coat\", \"sandal\",\"shirt\", \"sneaker\", \"bag\", \"ankle boot\"]",
   "id": "eaa5a8f8f5b4140d",
   "outputs": [],
   "execution_count": 207
  },
  {
   "metadata": {
    "ExecuteTime": {
     "end_time": "2025-02-21T07:33:57.521720Z",
     "start_time": "2025-02-21T07:33:57.345745Z"
    }
   },
   "cell_type": "code",
   "source": [
    "import random\n",
    "def plot_data(X, y, y_prob = None):\n",
    "    n_row, n_col = 2, 4\n",
    "    fig, axes = plt.subplots(n_row, n_col, figsize = (8, 4))\n",
    "    len_x = X.shape[0]\n",
    "    for i in range(n_row * n_col):\n",
    "        ax  = axes[i // n_col,  i % n_col]\n",
    "        idx = random.randint(0, len_x)\n",
    "        img = X[idx]\n",
    "        true_label = class_name[y[idx]]\n",
    "        label = f\"true: {true_label}\\n\"\n",
    "        color =  \"green\"\n",
    "        if y_prob is not None:\n",
    "            pred_label = class_name[np.argmax(y_prob[idx])]\n",
    "            label += f\"predict: {pred_label}\"\n",
    "            if pred_label != class_name[y[idx]]: color = \"red\"\n",
    "\n",
    "        ax.imshow(img, cmap=\"gray\")\n",
    "        ax.set_xlabel(label, color = color, fontsize = 12)\n",
    "        ax.set(xticks = [], yticks = [])\n",
    "    plt.tight_layout()\n",
    "    plt.show()\n",
    "plot_data(X_train, y_train)\n"
   ],
   "id": "24a42459d4c219a5",
   "outputs": [
    {
     "data": {
      "text/plain": [
       "<Figure size 800x400 with 8 Axes>"
      ],
      "image/png": "[encoded data removed]"
     },
     "metadata": {},
     "output_type": "display_data"
    }
   ],
   "execution_count": 208
  },
  {
   "metadata": {
    "ExecuteTime": {
     "end_time": "2025-02-21T07:33:57.650398Z",
     "start_time": "2025-02-21T07:33:57.535484Z"
    }
   },
   "cell_type": "code",
   "source": [
    "# scale pixel  to [0, 1]\n",
    "X_train  = X_train.astype(np.float32)/255\n",
    "X_test = X_test.astype(np.float32) / 255\n",
    "\n",
    "# expand (60000, 28, 28)  to  (60000, 28, 28, 1)\n",
    "X_train  = np.expand_dims(X_train, -1)\n",
    "X_test = np.expand_dims(X_test,  - 1)\n",
    "\n",
    "X_train.shape"
   ],
   "id": "c6997dda0d3520c7",
   "outputs": [
    {
     "data": {
      "text/plain": [
       "(60000, 28, 28, 1)"
      ]
     },
     "execution_count": 209,
     "metadata": {},
     "output_type": "execute_result"
    }
   ],
   "execution_count": 209
  },
  {
   "metadata": {
    "ExecuteTime": {
     "end_time": "2025-02-21T07:33:57.670408Z",
     "start_time": "2025-02-21T07:33:57.663373Z"
    }
   },
   "cell_type": "code",
   "source": [
    "# convert class vectors to binary class matrices: 1 => [0 1 0 0 ...]\n",
    "# 1              => sparse_categorical_cross_entropy\n",
    "# [0 1 0 0 ...]  => categorical_cross_entropy\n",
    "\n",
    "y_train_label = keras.utils.to_categorical(y_train, len(class_name))\n",
    "y_test_label = keras.utils.to_categorical(y_test, len(class_name))\n",
    "print(y_train[0], y_train_label[0])\n",
    "y_train_label.shape"
   ],
   "id": "c53ffd85153cbd5e",
   "outputs": [
    {
     "name": "stdout",
     "output_type": "stream",
     "text": [
      "9 [0. 0. 0. 0. 0. 0. 0. 0. 0. 1.]\n"
     ]
    },
    {
     "data": {
      "text/plain": [
       "(60000, 10)"
      ]
     },
     "execution_count": 210,
     "metadata": {},
     "output_type": "execute_result"
    }
   ],
   "execution_count": 210
  },
  {
   "metadata": {
    "ExecuteTime": {
     "end_time": "2025-02-21T07:33:57.777709Z",
     "start_time": "2025-02-21T07:33:57.737812Z"
    }
   },
   "cell_type": "code",
   "source": [
    "model = tf.keras.Sequential([\n",
    "    keras.layers.Input(shape = [28, 28]),\n",
    "    keras.layers.Flatten(),\n",
    "    keras.layers.Dense(256, activation = \"relu\"),\n",
    "    keras.layers.Dense(128, activation = \"relu\"),\n",
    "    keras.layers.Dense(64, activation = \"relu\"),\n",
    "    keras.layers.Dense(10, activation = \"softmax\")\n",
    "\n",
    "])\n",
    "model.summary()"
   ],
   "id": "cc62551be1cccf5d",
   "outputs": [
    {
     "data": {
      "text/plain": [
       "\u001B[1mModel: \"sequential_9\"\u001B[0m\n"
      ],
      "text/html": [
       "<pre style=\"white-space:pre;overflow-x:auto;line-height:normal;font-family:Menlo,'DejaVu Sans Mono',consolas,'Courier New',monospace\"><span style=\"font-weight: bold\">Model: \"sequential_9\"</span>\n",
       "</pre>\n"
      ]
     },
     "metadata": {},
     "output_type": "display_data"
    },
    {
     "data": {
      "text/plain": [
       "┏━━━━━━━━━━━━━━━━━━━━━━━━━━━━━━━━━┳━━━━━━━━━━━━━━━━━━━━━━━━┳━━━━━━━━━━━━━━━┓\n",
       "┃\u001B[1m \u001B[0m\u001B[1mLayer (type)                   \u001B[0m\u001B[1m \u001B[0m┃\u001B[1m \u001B[0m\u001B[1mOutput Shape          \u001B[0m\u001B[1m \u001B[0m┃\u001B[1m \u001B[0m\u001B[1m      Param #\u001B[0m\u001B[1m \u001B[0m┃\n",
       "┡━━━━━━━━━━━━━━━━━━━━━━━━━━━━━━━━━╇━━━━━━━━━━━━━━━━━━━━━━━━╇━━━━━━━━━━━━━━━┩\n",
       "│ flatten_9 (\u001B[38;5;33mFlatten\u001B[0m)             │ (\u001B[38;5;45mNone\u001B[0m, \u001B[38;5;34m784\u001B[0m)            │             \u001B[38;5;34m0\u001B[0m │\n",
       "├─────────────────────────────────┼────────────────────────┼───────────────┤\n",
       "│ dense_20 (\u001B[38;5;33mDense\u001B[0m)                │ (\u001B[38;5;45mNone\u001B[0m, \u001B[38;5;34m256\u001B[0m)            │       \u001B[38;5;34m200,960\u001B[0m │\n",
       "├─────────────────────────────────┼────────────────────────┼───────────────┤\n",
       "│ dense_21 (\u001B[38;5;33mDense\u001B[0m)                │ (\u001B[38;5;45mNone\u001B[0m, \u001B[38;5;34m128\u001B[0m)            │        \u001B[38;5;34m32,896\u001B[0m │\n",
       "├─────────────────────────────────┼────────────────────────┼───────────────┤\n",
       "│ dense_22 (\u001B[38;5;33mDense\u001B[0m)                │ (\u001B[38;5;45mNone\u001B[0m, \u001B[38;5;34m64\u001B[0m)             │         \u001B[38;5;34m8,256\u001B[0m │\n",
       "├─────────────────────────────────┼────────────────────────┼───────────────┤\n",
       "│ dense_23 (\u001B[38;5;33mDense\u001B[0m)                │ (\u001B[38;5;45mNone\u001B[0m, \u001B[38;5;34m10\u001B[0m)             │           \u001B[38;5;34m650\u001B[0m │\n",
       "└─────────────────────────────────┴────────────────────────┴───────────────┘\n"
      ],
      "text/html": [
       "<pre style=\"white-space:pre;overflow-x:auto;line-height:normal;font-family:Menlo,'DejaVu Sans Mono',consolas,'Courier New',monospace\">┏━━━━━━━━━━━━━━━━━━━━━━━━━━━━━━━━━┳━━━━━━━━━━━━━━━━━━━━━━━━┳━━━━━━━━━━━━━━━┓\n",
       "┃<span style=\"font-weight: bold\"> Layer (type)                    </span>┃<span style=\"font-weight: bold\"> Output Shape           </span>┃<span style=\"font-weight: bold\">       Param # </span>┃\n",
       "┡━━━━━━━━━━━━━━━━━━━━━━━━━━━━━━━━━╇━━━━━━━━━━━━━━━━━━━━━━━━╇━━━━━━━━━━━━━━━┩\n",
       "│ flatten_9 (<span style=\"color: #0087ff; text-decoration-color: #0087ff\">Flatten</span>)             │ (<span style=\"color: #00d7ff; text-decoration-color: #00d7ff\">None</span>, <span style=\"color: #00af00; text-decoration-color: #00af00\">784</span>)            │             <span style=\"color: #00af00; text-decoration-color: #00af00\">0</span> │\n",
       "├─────────────────────────────────┼────────────────────────┼───────────────┤\n",
       "│ dense_20 (<span style=\"color: #0087ff; text-decoration-color: #0087ff\">Dense</span>)                │ (<span style=\"color: #00d7ff; text-decoration-color: #00d7ff\">None</span>, <span style=\"color: #00af00; text-decoration-color: #00af00\">256</span>)            │       <span style=\"color: #00af00; text-decoration-color: #00af00\">200,960</span> │\n",
       "├─────────────────────────────────┼────────────────────────┼───────────────┤\n",
       "│ dense_21 (<span style=\"color: #0087ff; text-decoration-color: #0087ff\">Dense</span>)                │ (<span style=\"color: #00d7ff; text-decoration-color: #00d7ff\">None</span>, <span style=\"color: #00af00; text-decoration-color: #00af00\">128</span>)            │        <span style=\"color: #00af00; text-decoration-color: #00af00\">32,896</span> │\n",
       "├─────────────────────────────────┼────────────────────────┼───────────────┤\n",
       "│ dense_22 (<span style=\"color: #0087ff; text-decoration-color: #0087ff\">Dense</span>)                │ (<span style=\"color: #00d7ff; text-decoration-color: #00d7ff\">None</span>, <span style=\"color: #00af00; text-decoration-color: #00af00\">64</span>)             │         <span style=\"color: #00af00; text-decoration-color: #00af00\">8,256</span> │\n",
       "├─────────────────────────────────┼────────────────────────┼───────────────┤\n",
       "│ dense_23 (<span style=\"color: #0087ff; text-decoration-color: #0087ff\">Dense</span>)                │ (<span style=\"color: #00d7ff; text-decoration-color: #00d7ff\">None</span>, <span style=\"color: #00af00; text-decoration-color: #00af00\">10</span>)             │           <span style=\"color: #00af00; text-decoration-color: #00af00\">650</span> │\n",
       "└─────────────────────────────────┴────────────────────────┴───────────────┘\n",
       "</pre>\n"
      ]
     },
     "metadata": {},
     "output_type": "display_data"
    },
    {
     "data": {
      "text/plain": [
       "\u001B[1m Total params: \u001B[0m\u001B[38;5;34m242,762\u001B[0m (948.29 KB)\n"
      ],
      "text/html": [
       "<pre style=\"white-space:pre;overflow-x:auto;line-height:normal;font-family:Menlo,'DejaVu Sans Mono',consolas,'Courier New',monospace\"><span style=\"font-weight: bold\"> Total params: </span><span style=\"color: #00af00; text-decoration-color: #00af00\">242,762</span> (948.29 KB)\n",
       "</pre>\n"
      ]
     },
     "metadata": {},
     "output_type": "display_data"
    },
    {
     "data": {
      "text/plain": [
       "\u001B[1m Trainable params: \u001B[0m\u001B[38;5;34m242,762\u001B[0m (948.29 KB)\n"
      ],
      "text/html": [
       "<pre style=\"white-space:pre;overflow-x:auto;line-height:normal;font-family:Menlo,'DejaVu Sans Mono',consolas,'Courier New',monospace\"><span style=\"font-weight: bold\"> Trainable params: </span><span style=\"color: #00af00; text-decoration-color: #00af00\">242,762</span> (948.29 KB)\n",
       "</pre>\n"
      ]
     },
     "metadata": {},
     "output_type": "display_data"
    },
    {
     "data": {
      "text/plain": [
       "\u001B[1m Non-trainable params: \u001B[0m\u001B[38;5;34m0\u001B[0m (0.00 B)\n"
      ],
      "text/html": [
       "<pre style=\"white-space:pre;overflow-x:auto;line-height:normal;font-family:Menlo,'DejaVu Sans Mono',consolas,'Courier New',monospace\"><span style=\"font-weight: bold\"> Non-trainable params: </span><span style=\"color: #00af00; text-decoration-color: #00af00\">0</span> (0.00 B)\n",
       "</pre>\n"
      ]
     },
     "metadata": {},
     "output_type": "display_data"
    }
   ],
   "execution_count": 211
  },
  {
   "metadata": {
    "ExecuteTime": {
     "end_time": "2025-02-21T07:33:57.805140Z",
     "start_time": "2025-02-21T07:33:57.798620Z"
    }
   },
   "cell_type": "code",
   "source": "model.layers",
   "id": "6b59f74a0b2dfd9e",
   "outputs": [
    {
     "data": {
      "text/plain": [
       "[<Flatten name=flatten_9, built=True>,\n",
       " <Dense name=dense_20, built=True>,\n",
       " <Dense name=dense_21, built=True>,\n",
       " <Dense name=dense_22, built=True>,\n",
       " <Dense name=dense_23, built=True>]"
      ]
     },
     "execution_count": 212,
     "metadata": {},
     "output_type": "execute_result"
    }
   ],
   "execution_count": 212
  },
  {
   "metadata": {
    "ExecuteTime": {
     "end_time": "2025-02-21T07:33:57.830861Z",
     "start_time": "2025-02-21T07:33:57.822897Z"
    }
   },
   "cell_type": "code",
   "source": [
    "optimizer = tf.keras.optimizers.SGD(learning_rate = 0.01)\n",
    "\n",
    "model.compile(loss= \"categorical_crossentropy\", optimizer = optimizer, metrics = [\"accuracy\"])"
   ],
   "id": "cd0a37e4dde42909",
   "outputs": [],
   "execution_count": 213
  },
  {
   "metadata": {
    "ExecuteTime": {
     "end_time": "2025-02-21T07:34:38.619480Z",
     "start_time": "2025-02-21T07:33:57.845269Z"
    }
   },
   "cell_type": "code",
   "source": [
    "epochs  = 30\n",
    "batch_size = 128\n",
    "# train model\n",
    "history  = model.fit(X_train, y_train_label, epochs= epochs, batch_size = batch_size, validation_split = 0.1)"
   ],
   "id": "fb6444d71ffeebd2",
   "outputs": [
    {
     "name": "stdout",
     "output_type": "stream",
     "text": [
      "Epoch 1/30\n",
      "\u001B[1m422/422\u001B[0m \u001B[32m━━━━━━━━━━━━━━━━━━━━\u001B[0m\u001B[37m\u001B[0m \u001B[1m2s\u001B[0m 4ms/step - accuracy: 0.5486 - loss: 1.5668 - val_accuracy: 0.7597 - val_loss: 0.7100\n",
      "Epoch 2/30\n",
      "\u001B[1m422/422\u001B[0m \u001B[32m━━━━━━━━━━━━━━━━━━━━\u001B[0m\u001B[37m\u001B[0m \u001B[1m1s\u001B[0m 3ms/step - accuracy: 0.7636 - loss: 0.6823 - val_accuracy: 0.8013 - val_loss: 0.5800\n",
      "Epoch 3/30\n",
      "\u001B[1m422/422\u001B[0m \u001B[32m━━━━━━━━━━━━━━━━━━━━\u001B[0m\u001B[37m\u001B[0m \u001B[1m1s\u001B[0m 3ms/step - accuracy: 0.8059 - loss: 0.5750 - val_accuracy: 0.8005 - val_loss: 0.5588\n",
      "Epoch 4/30\n",
      "\u001B[1m422/422\u001B[0m \u001B[32m━━━━━━━━━━━━━━━━━━━━\u001B[0m\u001B[37m\u001B[0m \u001B[1m1s\u001B[0m 3ms/step - accuracy: 0.8193 - loss: 0.5269 - val_accuracy: 0.8125 - val_loss: 0.5500\n",
      "Epoch 5/30\n",
      "\u001B[1m422/422\u001B[0m \u001B[32m━━━━━━━━━━━━━━━━━━━━\u001B[0m\u001B[37m\u001B[0m \u001B[1m1s\u001B[0m 3ms/step - accuracy: 0.8298 - loss: 0.4962 - val_accuracy: 0.8263 - val_loss: 0.4836\n",
      "Epoch 6/30\n",
      "\u001B[1m422/422\u001B[0m \u001B[32m━━━━━━━━━━━━━━━━━━━━\u001B[0m\u001B[37m\u001B[0m \u001B[1m1s\u001B[0m 3ms/step - accuracy: 0.8360 - loss: 0.4743 - val_accuracy: 0.8278 - val_loss: 0.4733\n",
      "Epoch 7/30\n",
      "\u001B[1m422/422\u001B[0m \u001B[32m━━━━━━━━━━━━━━━━━━━━\u001B[0m\u001B[37m\u001B[0m \u001B[1m1s\u001B[0m 3ms/step - accuracy: 0.8409 - loss: 0.4589 - val_accuracy: 0.8427 - val_loss: 0.4510\n",
      "Epoch 8/30\n",
      "\u001B[1m422/422\u001B[0m \u001B[32m━━━━━━━━━━━━━━━━━━━━\u001B[0m\u001B[37m\u001B[0m \u001B[1m1s\u001B[0m 3ms/step - accuracy: 0.8461 - loss: 0.4399 - val_accuracy: 0.8458 - val_loss: 0.4369\n",
      "Epoch 9/30\n",
      "\u001B[1m422/422\u001B[0m \u001B[32m━━━━━━━━━━━━━━━━━━━━\u001B[0m\u001B[37m\u001B[0m \u001B[1m1s\u001B[0m 3ms/step - accuracy: 0.8499 - loss: 0.4263 - val_accuracy: 0.8428 - val_loss: 0.4405\n",
      "Epoch 10/30\n",
      "\u001B[1m422/422\u001B[0m \u001B[32m━━━━━━━━━━━━━━━━━━━━\u001B[0m\u001B[37m\u001B[0m \u001B[1m1s\u001B[0m 3ms/step - accuracy: 0.8536 - loss: 0.4257 - val_accuracy: 0.8423 - val_loss: 0.4300\n",
      "Epoch 11/30\n",
      "\u001B[1m422/422\u001B[0m \u001B[32m━━━━━━━━━━━━━━━━━━━━\u001B[0m\u001B[37m\u001B[0m \u001B[1m1s\u001B[0m 3ms/step - accuracy: 0.8551 - loss: 0.4152 - val_accuracy: 0.8552 - val_loss: 0.4125\n",
      "Epoch 12/30\n",
      "\u001B[1m422/422\u001B[0m \u001B[32m━━━━━━━━━━━━━━━━━━━━\u001B[0m\u001B[37m\u001B[0m \u001B[1m1s\u001B[0m 3ms/step - accuracy: 0.8605 - loss: 0.3964 - val_accuracy: 0.8538 - val_loss: 0.4108\n",
      "Epoch 13/30\n",
      "\u001B[1m422/422\u001B[0m \u001B[32m━━━━━━━━━━━━━━━━━━━━\u001B[0m\u001B[37m\u001B[0m \u001B[1m1s\u001B[0m 3ms/step - accuracy: 0.8618 - loss: 0.3944 - val_accuracy: 0.8463 - val_loss: 0.4151\n",
      "Epoch 14/30\n",
      "\u001B[1m422/422\u001B[0m \u001B[32m━━━━━━━━━━━━━━━━━━━━\u001B[0m\u001B[37m\u001B[0m \u001B[1m1s\u001B[0m 3ms/step - accuracy: 0.8643 - loss: 0.3837 - val_accuracy: 0.8582 - val_loss: 0.3999\n",
      "Epoch 15/30\n",
      "\u001B[1m422/422\u001B[0m \u001B[32m━━━━━━━━━━━━━━━━━━━━\u001B[0m\u001B[37m\u001B[0m \u001B[1m1s\u001B[0m 3ms/step - accuracy: 0.8649 - loss: 0.3860 - val_accuracy: 0.8583 - val_loss: 0.4109\n",
      "Epoch 16/30\n",
      "\u001B[1m422/422\u001B[0m \u001B[32m━━━━━━━━━━━━━━━━━━━━\u001B[0m\u001B[37m\u001B[0m \u001B[1m1s\u001B[0m 3ms/step - accuracy: 0.8683 - loss: 0.3755 - val_accuracy: 0.8632 - val_loss: 0.3843\n",
      "Epoch 17/30\n",
      "\u001B[1m422/422\u001B[0m \u001B[32m━━━━━━━━━━━━━━━━━━━━\u001B[0m\u001B[37m\u001B[0m \u001B[1m1s\u001B[0m 3ms/step - accuracy: 0.8718 - loss: 0.3699 - val_accuracy: 0.8610 - val_loss: 0.3952\n",
      "Epoch 18/30\n",
      "\u001B[1m422/422\u001B[0m \u001B[32m━━━━━━━━━━━━━━━━━━━━\u001B[0m\u001B[37m\u001B[0m \u001B[1m1s\u001B[0m 3ms/step - accuracy: 0.8704 - loss: 0.3716 - val_accuracy: 0.8657 - val_loss: 0.3747\n",
      "Epoch 19/30\n",
      "\u001B[1m422/422\u001B[0m \u001B[32m━━━━━━━━━━━━━━━━━━━━\u001B[0m\u001B[37m\u001B[0m \u001B[1m1s\u001B[0m 3ms/step - accuracy: 0.8703 - loss: 0.3635 - val_accuracy: 0.8668 - val_loss: 0.3765\n",
      "Epoch 20/30\n",
      "\u001B[1m422/422\u001B[0m \u001B[32m━━━━━━━━━━━━━━━━━━━━\u001B[0m\u001B[37m\u001B[0m \u001B[1m1s\u001B[0m 3ms/step - accuracy: 0.8731 - loss: 0.3601 - val_accuracy: 0.8697 - val_loss: 0.3770\n",
      "Epoch 21/30\n",
      "\u001B[1m422/422\u001B[0m \u001B[32m━━━━━━━━━━━━━━━━━━━━\u001B[0m\u001B[37m\u001B[0m \u001B[1m1s\u001B[0m 3ms/step - accuracy: 0.8769 - loss: 0.3531 - val_accuracy: 0.8663 - val_loss: 0.3751\n",
      "Epoch 22/30\n",
      "\u001B[1m422/422\u001B[0m \u001B[32m━━━━━━━━━━━━━━━━━━━━\u001B[0m\u001B[37m\u001B[0m \u001B[1m1s\u001B[0m 3ms/step - accuracy: 0.8789 - loss: 0.3480 - val_accuracy: 0.8662 - val_loss: 0.3705\n",
      "Epoch 23/30\n",
      "\u001B[1m422/422\u001B[0m \u001B[32m━━━━━━━━━━━━━━━━━━━━\u001B[0m\u001B[37m\u001B[0m \u001B[1m1s\u001B[0m 3ms/step - accuracy: 0.8783 - loss: 0.3438 - val_accuracy: 0.8708 - val_loss: 0.3708\n",
      "Epoch 24/30\n",
      "\u001B[1m422/422\u001B[0m \u001B[32m━━━━━━━━━━━━━━━━━━━━\u001B[0m\u001B[37m\u001B[0m \u001B[1m1s\u001B[0m 3ms/step - accuracy: 0.8793 - loss: 0.3456 - val_accuracy: 0.8697 - val_loss: 0.3666\n",
      "Epoch 25/30\n",
      "\u001B[1m422/422\u001B[0m \u001B[32m━━━━━━━━━━━━━━━━━━━━\u001B[0m\u001B[37m\u001B[0m \u001B[1m1s\u001B[0m 3ms/step - accuracy: 0.8808 - loss: 0.3386 - val_accuracy: 0.8743 - val_loss: 0.3631\n",
      "Epoch 26/30\n",
      "\u001B[1m422/422\u001B[0m \u001B[32m━━━━━━━━━━━━━━━━━━━━\u001B[0m\u001B[37m\u001B[0m \u001B[1m1s\u001B[0m 3ms/step - accuracy: 0.8806 - loss: 0.3347 - val_accuracy: 0.8668 - val_loss: 0.3797\n",
      "Epoch 27/30\n",
      "\u001B[1m422/422\u001B[0m \u001B[32m━━━━━━━━━━━━━━━━━━━━\u001B[0m\u001B[37m\u001B[0m \u001B[1m1s\u001B[0m 3ms/step - accuracy: 0.8843 - loss: 0.3245 - val_accuracy: 0.8707 - val_loss: 0.3606\n",
      "Epoch 28/30\n",
      "\u001B[1m422/422\u001B[0m \u001B[32m━━━━━━━━━━━━━━━━━━━━\u001B[0m\u001B[37m\u001B[0m \u001B[1m1s\u001B[0m 3ms/step - accuracy: 0.8815 - loss: 0.3283 - val_accuracy: 0.8732 - val_loss: 0.3540\n",
      "Epoch 29/30\n",
      "\u001B[1m422/422\u001B[0m \u001B[32m━━━━━━━━━━━━━━━━━━━━\u001B[0m\u001B[37m\u001B[0m \u001B[1m1s\u001B[0m 3ms/step - accuracy: 0.8875 - loss: 0.3195 - val_accuracy: 0.8737 - val_loss: 0.3526\n",
      "Epoch 30/30\n",
      "\u001B[1m422/422\u001B[0m \u001B[32m━━━━━━━━━━━━━━━━━━━━\u001B[0m\u001B[37m\u001B[0m \u001B[1m1s\u001B[0m 3ms/step - accuracy: 0.8827 - loss: 0.3250 - val_accuracy: 0.8738 - val_loss: 0.3533\n"
     ]
    }
   ],
   "execution_count": 214
  },
  {
   "metadata": {
    "ExecuteTime": {
     "end_time": "2025-02-21T07:34:50.460410Z",
     "start_time": "2025-02-21T07:34:50.435255Z"
    }
   },
   "cell_type": "code",
   "source": "model.save(\"model.keras\")",
   "id": "fbf82dd0419cd8f0",
   "outputs": [],
   "execution_count": 215
  },
  {
   "metadata": {
    "ExecuteTime": {
     "end_time": "2025-02-21T07:34:50.987245Z",
     "start_time": "2025-02-21T07:34:50.481384Z"
    }
   },
   "cell_type": "code",
   "source": [
    "score = model.evaluate(X_test, y_test_label, verbose = 0)\n",
    "print(f\"test loss: {score[0]}\")\n",
    "print(f\"test accuracy: {score[1]}\")\n"
   ],
   "id": "5b52fd1aac2907d",
   "outputs": [
    {
     "name": "stdout",
     "output_type": "stream",
     "text": [
      "test loss: 0.37570443749427795\n",
      "test accuracy: 0.866599977016449\n"
     ]
    }
   ],
   "execution_count": 216
  },
  {
   "metadata": {
    "ExecuteTime": {
     "end_time": "2025-02-21T07:35:04.746661Z",
     "start_time": "2025-02-21T07:35:04.169732Z"
    }
   },
   "cell_type": "code",
   "source": "y_prob = model.predict(X_test)",
   "id": "625d278edc8c4570",
   "outputs": [
    {
     "name": "stdout",
     "output_type": "stream",
     "text": [
      "\u001B[1m313/313\u001B[0m \u001B[32m━━━━━━━━━━━━━━━━━━━━\u001B[0m\u001B[37m\u001B[0m \u001B[1m0s\u001B[0m 1ms/step\n"
     ]
    }
   ],
   "execution_count": 219
  },
  {
   "metadata": {
    "ExecuteTime": {
     "end_time": "2025-02-21T07:35:13.481435Z",
     "start_time": "2025-02-21T07:35:13.312048Z"
    }
   },
   "cell_type": "code",
   "source": "plot_data(X_test, y_test, y_prob)",
   "id": "dadc8f29a4487015",
   "outputs": [
    {
     "data": {
      "text/plain": [
       "<Figure size 800x400 with 8 Axes>"
      ],
      "image/png": "[encoded data removed]"
     },
     "metadata": {},
     "output_type": "display_data"
    }
   ],
   "execution_count": 223
  }
 ],
 "metadata": {
  "kernelspec": {
   "display_name": "Python 3",
   "language": "python",
   "name": "python3"
  },
  "language_info": {
   "codemirror_mode": {
    "name": "ipython",
    "version": 2
   },
   "file_extension": ".py",
   "mimetype": "text/x-python",
   "name": "python",
   "nbconvert_exporter": "python",
   "pygments_lexer": "ipython2",
   "version": "2.7.6"
  }
 },
 "nbformat": 4,
 "nbformat_minor": 5
}
